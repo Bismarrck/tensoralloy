{
 "cells": [
  {
   "cell_type": "markdown",
   "metadata": {},
   "source": [
    "# SNAP Databases\n",
    "\n",
    "* Author: Xin Chen\n",
    "* Email: Bismarrck@me.com\n",
    "* Date: Jan 10, 2019\n",
    "* Reference: [PHYSICAL REVIEW B 98, 094104 (2018)](https://journals.aps.org/prb/abstract/10.1103/PhysRevB.98.094104)\n",
    "\n",
    "This notebook demonstrates how to build \n",
    "**[SNAP](http://pymatgen.org/_modules/pymatgen/core/structure.html#IMolecule.as_dict)** databases for **TensorAlloy**.\n",
    "The SNAP databases have three sets:\n",
    "\n",
    "1. Ni-Mo: 3973 structures\n",
    "2. Ni: 461 structures\n",
    "3. Mo: 284 structures"
   ]
  },
  {
   "cell_type": "code",
   "execution_count": 1,
   "metadata": {},
   "outputs": [],
   "source": [
    "from __future__ import print_function"
   ]
  },
  {
   "cell_type": "code",
   "execution_count": 10,
   "metadata": {},
   "outputs": [],
   "source": [
    "import zipfile\n",
    "import shutil\n",
    "import json\n",
    "import glob\n",
    "import os\n",
    "import requests\n",
    "\n",
    "from os.path import join, basename, splitext, exists\n",
    "from pymatgen.core.structure import Structure\n",
    "from ase.calculators.singlepoint import SinglePointCalculator\n",
    "from ase import Atoms\n",
    "from ase.io import write, read\n",
    "from typing import List"
   ]
  },
  {
   "cell_type": "markdown",
   "metadata": {},
   "source": [
    "Below is the function to convert a list of `dict` to `ase.Atoms` objects and then\n",
    "write the trajectory to an `extxyz` files.\n",
    "\n",
    "**Note:** the unit of the stress values is `-1  * kbar`."
   ]
  },
  {
   "cell_type": "code",
   "execution_count": 3,
   "metadata": {},
   "outputs": [],
   "source": [
    "def convert_pymatgen_json_to_extxyz(list_of_dicts: List[dict], output_file):\n",
    "    \"\"\"\n",
    "    Convert the JSON-serialized structures in `list_of_dicts` to `Atoms` \n",
    "    objects and write the trajectory to an `extxyz` file.\n",
    "    \n",
    "    Parameters\n",
    "    ----------\n",
    "    list_of_dicts : List[dict]\n",
    "        A list of JSON-serialized dicts.\n",
    "    output_file : str\n",
    "        The output file to write.\n",
    "    \n",
    "    Returns\n",
    "    -------\n",
    "    ntotal : int\n",
    "        The total number of structures found.\n",
    "    \n",
    "    \"\"\"\n",
    "    trajectory = []\n",
    "    for i in range(len(list_of_dicts)):\n",
    "        structure = Structure.from_dict(list_of_dicts[i]['structure'])\n",
    "        atoms = Atoms(list(map(str, structure.species)), \n",
    "                      structure.cart_coords, \n",
    "                      cell=structure.lattice.matrix,\n",
    "                      pbc=[True, True, True])\n",
    "        if 'outputs' in list_of_dicts[i]:\n",
    "            outputs = list_of_dicts[i]['outputs']\n",
    "            outputs['stress'] = [-x for x in outputs['stress']]\n",
    "            calc = SinglePointCalculator(atoms, **outputs)\n",
    "            atoms.calc = calc\n",
    "            params = list_of_dicts[i]['params']\n",
    "            params.pop('pp')\n",
    "            atoms.info = dict(tags=list_of_dicts[i]['tags'], **params)\n",
    "        else:\n",
    "            # The Mo dataset was created separately so the format is different.\n",
    "            data = list_of_dicts[i]['data']\n",
    "            results = {\n",
    "                'energy': data['energy_per_atom'] * len(atoms),\n",
    "                'forces': data['forces'],\n",
    "                'stress': [-x for x in data['virial_stress']],\n",
    "            }\n",
    "            calc = SinglePointCalculator(atoms, **results)\n",
    "            atoms.calc = calc\n",
    "        trajectory.append(atoms)\n",
    "    write(output_file, trajectory, format='extxyz')\n",
    "    return len(trajectory)"
   ]
  },
  {
   "cell_type": "markdown",
   "metadata": {},
   "source": [
    "Download the original SNAP dataset if needed. Then unzip this file."
   ]
  },
  {
   "cell_type": "code",
   "execution_count": 12,
   "metadata": {},
   "outputs": [],
   "source": [
    "local_dir = 'snap-master'\n",
    "local_filename = 'snap-master.zip'\n",
    "\n",
    "def download_or_unzip():\n",
    "    if not exists(local_filename):\n",
    "        url = \"https://codeload.github.com/materialsvirtuallab/snap/zip/master\"\n",
    "        r = requests.get(url, stream=True)\n",
    "        with open(local_filename, 'wb') as f:\n",
    "            shutil.copyfileobj(r.raw, f)\n",
    "    if exists(local_dir):\n",
    "        shutil.rmtree(local_dir, ignore_errors=True)\n",
    "    with zipfile.ZipFile(local_filename, 'r') as zip_ref:\n",
    "        zip_ref.extractall('.')\n",
    "    if exists('__MACOSX'):\n",
    "        shutil.rmtree('__MACOSX')\n",
    "\n",
    "download_or_unzip()"
   ]
  },
  {
   "cell_type": "markdown",
   "metadata": {},
   "source": [
    "Generate the extxyz files.\n",
    "\n",
    "There are five types of subsets:\n",
    "\n",
    "* Cu : aimd, elastic, md, surface, vacancy\n",
    "* Mo : aimd (npt), aimd (nvt), elastic, gb, surface, vacancy, doped_with_ni\n",
    "* Ni : aimd, elastic, surface, vacancy, surface (test), doped_with_Mo\n",
    "* Ni3Mo : aimd, elastic\n",
    "* Ni4Mo : aimd, elastic"
   ]
  },
  {
   "cell_type": "code",
   "execution_count": 26,
   "metadata": {},
   "outputs": [
    {
     "name": "stdout",
     "output_type": "stream",
     "text": [
      "Total 3973 structures.\n"
     ]
    }
   ],
   "source": [
    "sources = ['Mo', 'Ni', 'Ni-Mo']\n",
    "ntotal = 0\n",
    "\n",
    "for index, source in enumerate(sources):\n",
    "    training_dir = join(local_dir, source, 'training')\n",
    "    list_of_files = list(glob.glob(f\"{training_dir}/*.json\"))\n",
    "    for afile in list_of_files:\n",
    "        if index == 3:\n",
    "            output_file = f\"{splitext(basename(afile))[0]}.extxyz\"\n",
    "        else:\n",
    "            tag = splitext(basename(afile))[0]\n",
    "            output_file = f\"{source.replace('-', '')}.{tag}.extxyz\"\n",
    "        with open(afile) as fp:\n",
    "            try:\n",
    "                n = convert_pymatgen_json_to_extxyz(json.load(fp), output_file)\n",
    "                ntotal += n\n",
    "            except Exception as excp:\n",
    "                print(f\"Failed to proceed {afile}: {str(excp)}\")\n",
    "print(f\"Total {ntotal} structures.\")"
   ]
  },
  {
   "cell_type": "markdown",
   "metadata": {},
   "source": [
    "Merge these extxyz files to a single `extxyz` file."
   ]
  },
  {
   "cell_type": "code",
   "execution_count": 27,
   "metadata": {},
   "outputs": [
    {
     "name": "stdout",
     "output_type": "stream",
     "text": [
      "NiMo.Ni3Mo_AIMD.extxyz\n",
      "NiMo.Ni4Mo_Elastic.extxyz\n",
      "Mo.AIMD_NVT.extxyz\n",
      "Mo.Elastic.extxyz\n",
      "NiMo.Ni4Mo_AIMD.extxyz\n",
      "Mo.GB.extxyz\n",
      "Ni.Surface_test.extxyz\n",
      "Mo.Vacancy.extxyz\n",
      "NiMo.Ni_dopedwith_Mo.extxyz\n",
      "Ni.Surface.extxyz\n",
      "NiMo.Mo_dopedwith_Ni.extxyz\n",
      "Ni.AIMD.extxyz\n",
      "Ni.Elastic.extxyz\n",
      "Mo.AIMD_NPT.extxyz\n",
      "Ni.Vacancy.extxyz\n",
      "NiMo.Ni3Mo_Elastic.extxyz\n",
      "Mo.Surface.extxyz\n"
     ]
    }
   ],
   "source": [
    "if exists('snap.extxyz'):\n",
    "    os.remove('snap.extxyz')\n",
    "all_files = glob.glob('*.*.extxyz')\n",
    "with open('snap.extxyz', 'w') as fp:    \n",
    "    for afile in all_files:\n",
    "        print(afile)\n",
    "        with open(afile, 'r') as obj:\n",
    "            fp.write(obj.read())"
   ]
  },
  {
   "cell_type": "markdown",
   "metadata": {},
   "source": [
    "Create a **Ni** `extxyz` file."
   ]
  },
  {
   "cell_type": "code",
   "execution_count": 28,
   "metadata": {},
   "outputs": [
    {
     "name": "stdout",
     "output_type": "stream",
     "text": [
      "Ni.Surface_test.extxyz\n",
      "Ni.Surface.extxyz\n",
      "Ni.AIMD.extxyz\n",
      "Ni.Elastic.extxyz\n",
      "Ni.Vacancy.extxyz\n"
     ]
    }
   ],
   "source": [
    "all_Ni_files = glob.glob('Ni.*.extxyz')\n",
    "with open('snap-Ni.extxyz', 'w') as fp:    \n",
    "    for afile in all_Ni_files:\n",
    "        print(afile)\n",
    "        with open(afile, 'r') as obj:\n",
    "            fp.write(obj.read())"
   ]
  },
  {
   "cell_type": "markdown",
   "metadata": {},
   "source": [
    "Create a **Mo** `extxyz` file."
   ]
  },
  {
   "cell_type": "code",
   "execution_count": 29,
   "metadata": {},
   "outputs": [
    {
     "name": "stdout",
     "output_type": "stream",
     "text": [
      "Mo.AIMD_NVT.extxyz\n",
      "Mo.Elastic.extxyz\n",
      "Mo.GB.extxyz\n",
      "Mo.Vacancy.extxyz\n",
      "Mo.AIMD_NPT.extxyz\n",
      "Mo.Surface.extxyz\n"
     ]
    }
   ],
   "source": [
    "all_Mo_files = glob.glob('Mo.*.extxyz')\n",
    "with open('snap-Mo.extxyz', 'w') as fp:    \n",
    "    for afile in all_Mo_files:\n",
    "        print(afile)\n",
    "        with open(afile, 'r') as obj:\n",
    "            fp.write(obj.read())"
   ]
  },
  {
   "cell_type": "markdown",
   "metadata": {},
   "source": [
    "Delete unnecessary files."
   ]
  },
  {
   "cell_type": "code",
   "execution_count": 32,
   "metadata": {},
   "outputs": [],
   "source": [
    "for afile in all_files:\n",
    "    if exists(afile):\n",
    "        os.remove(afile)\n",
    "if exists(local_dir):\n",
    "    shutil.rmtree(local_dir, ignore_errors=True)"
   ]
  }
 ],
 "metadata": {
  "kernelspec": {
   "display_name": "Python 3",
   "language": "python",
   "name": "python3"
  },
  "language_info": {
   "codemirror_mode": {
    "name": "ipython",
    "version": 3
   },
   "file_extension": ".py",
   "mimetype": "text/x-python",
   "name": "python",
   "nbconvert_exporter": "python",
   "pygments_lexer": "ipython3",
   "version": "3.7.2"
  }
 },
 "nbformat": 4,
 "nbformat_minor": 2
}
