{
 "cells": [
  {
   "cell_type": "markdown",
   "metadata": {},
   "source": [
    "# SNAP Databases\n",
    "\n",
    "* Author: Xin Chen\n",
    "* Email: Bismarrck@me.com\n",
    "* Date: Apr 10, 2019\n",
    "\n",
    "This notebook demonstrates how to build \n",
    "**[SNAP](http://pymatgen.org/_modules/pymatgen/core/structure.html#IMolecule.as_dict)** datasets for TensorAlloy.\n",
    "The SNAP, built by Shyue Ping Ong's group, has 3973 unique Ni-Mo solids:\n",
    "\n",
    "1. Ni: 461 structures\n",
    "2. Mo: 284 structures\n",
    "3. Ni$_{\\mathrm{3}}$Mo: 321 structures\n",
    "4. Ni$_{\\mathrm{4}}$Mo: 321 structures\n",
    "5. Ni$_{\\mathrm{Mo}}$: 1668 structures\n",
    "6. Mo$_{\\mathrm{Ni}}$: 918 structures\n",
    "\n",
    "**References** \n",
    "\n",
    "1. [PHYSICAL REVIEW B 98, 094104 (2018)](https://journals.aps.org/prb/abstract/10.1103/PhysRevB.98.094104)\n",
    "2. [PHYSICAL REVIEW M 1, 043603 (2017)](https://journals.aps.org/prmaterials/abstract/10.1103/PhysRevMaterials.1.043603)"
   ]
  },
  {
   "cell_type": "code",
   "execution_count": 1,
   "metadata": {},
   "outputs": [],
   "source": [
    "from __future__ import print_function"
   ]
  },
  {
   "cell_type": "code",
   "execution_count": 2,
   "metadata": {},
   "outputs": [],
   "source": [
    "import zipfile\n",
    "import shutil\n",
    "import json\n",
    "import glob\n",
    "import os\n",
    "import requests\n",
    "import numpy as np\n",
    "\n",
    "from os.path import join, basename, splitext, exists\n",
    "from pymatgen.core.structure import Structure\n",
    "from ase.calculators.singlepoint import SinglePointCalculator\n",
    "from ase import Atoms\n",
    "from ase.io import write, read\n",
    "from typing import List\n",
    "\n",
    "from tensoralloy.io.read import read_file"
   ]
  },
  {
   "cell_type": "markdown",
   "metadata": {},
   "source": [
    "Below is the function to convert a list of `dict` to `ase.Atoms` objects and then\n",
    "write the trajectory to an `extxyz` files.\n",
    "\n",
    "**Note:** the unit of the stress values is `-1  * kbar`."
   ]
  },
  {
   "cell_type": "code",
   "execution_count": 3,
   "metadata": {},
   "outputs": [],
   "source": [
    "def json2extxyz(list_of_dicts: List[dict], output_file, weights: np.ndarray,\n",
    "                source: str, tag: str):\n",
    "    \"\"\"\n",
    "    Convert the JSON-serialized structures in `list_of_dicts` to `Atoms` \n",
    "    objects and write the trajectory to an `extxyz` file.\n",
    "    \n",
    "    Parameters\n",
    "    ----------\n",
    "    list_of_dicts : List[dict]\n",
    "        A list of JSON-serialized dicts.\n",
    "    output_file : str\n",
    "        The output file to write.\n",
    "    weights : array_like\n",
    "        The confidences of energy, forces and stress.\n",
    "    source : str\n",
    "        The source of this JSON file.\n",
    "    tag : str\n",
    "        The tag of this JSON file.\n",
    "    \n",
    "    Returns\n",
    "    -------\n",
    "    ntotal : int\n",
    "        The total number of structures found.\n",
    "    \n",
    "    \"\"\"\n",
    "    trajectory = []\n",
    "    for i in range(len(list_of_dicts)):\n",
    "        structure = Structure.from_dict(list_of_dicts[i]['structure'])\n",
    "        atoms = Atoms(list(map(str, structure.species)), \n",
    "                      structure.cart_coords, \n",
    "                      cell=structure.lattice.matrix,\n",
    "                      pbc=[True, True, True])\n",
    "        if 'outputs' in list_of_dicts[i]:\n",
    "            outputs = list_of_dicts[i]['outputs']\n",
    "            outputs['stress'] = [-x for x in outputs['stress']]\n",
    "            calc = SinglePointCalculator(atoms, **outputs)\n",
    "            atoms.calc = calc\n",
    "            params = list_of_dicts[i]['params']\n",
    "            params.pop('pp')\n",
    "            atoms.info = dict(tags=list_of_dicts[i]['tags'], **params)\n",
    "        else:\n",
    "            # The Mo dataset was created separately so the format is different.\n",
    "            data = list_of_dicts[i]['data']\n",
    "            results = {\n",
    "                'energy': data['energy_per_atom'] * len(atoms),\n",
    "                'forces': data['forces'],\n",
    "                'stress': [-x for x in data['virial_stress']],\n",
    "            }\n",
    "            calc = SinglePointCalculator(atoms, **results)\n",
    "            atoms.calc = calc\n",
    "        atoms.info['weights'] = weights\n",
    "        atoms.info['source'] = f\"{source}.{tag}.{i}\"\n",
    "        trajectory.append(atoms)\n",
    "    write(output_file, trajectory, format='extxyz')\n",
    "    return len(trajectory)"
   ]
  },
  {
   "cell_type": "markdown",
   "metadata": {},
   "source": [
    "Download the original SNAP dataset if needed. Then unzip this file."
   ]
  },
  {
   "cell_type": "code",
   "execution_count": 4,
   "metadata": {},
   "outputs": [],
   "source": [
    "local_dir = 'snap-master'\n",
    "local_filename = 'snap-master.zip'\n",
    "\n",
    "def download_or_unzip():\n",
    "    if not exists(local_filename):\n",
    "        url = \"https://codeload.github.com/materialsvirtuallab/snap/zip/master\"\n",
    "        r = requests.get(url, stream=True)\n",
    "        with open(local_filename, 'wb') as f:\n",
    "            shutil.copyfileobj(r.raw, f)\n",
    "    if exists(local_dir):\n",
    "        shutil.rmtree(local_dir, ignore_errors=True)\n",
    "    with zipfile.ZipFile(local_filename, 'r') as zip_ref:\n",
    "        zip_ref.extractall('.')\n",
    "    if exists('__MACOSX'):\n",
    "        shutil.rmtree('__MACOSX')\n",
    "\n",
    "download_or_unzip()"
   ]
  },
  {
   "cell_type": "markdown",
   "metadata": {},
   "source": [
    "Generate the extxyz files.\n",
    "\n",
    "There are four subsets:\n",
    "\n",
    "* Mo : AIMD (NPT), AIMD (NVT), Elastic, GB, Surface, Vacancy, Dope(Ni)\n",
    "* Ni : AIMD, Elastic, Surface, Vacancy, Surface (test), Dope(Mo)\n",
    "* Ni3Mo : AIMD, Elastic\n",
    "* Ni4Mo : AIMD, Elastic\n",
    "\n",
    "In their original papers, the confidences (weights) of the structures are different.\n",
    "\n",
    "* AIMD, Surface, GB: \n",
    "    - energy: (0.5, 3000)\n",
    "    - forces: (0.001, 100)\n",
    "* Elastic: \n",
    "    - energy: (0.05, 10000)\n",
    "    - stress: (0.001, 10)"
   ]
  },
  {
   "cell_type": "code",
   "execution_count": 5,
   "metadata": {},
   "outputs": [
    {
     "name": "stdout",
     "output_type": "stream",
     "text": [
      "snap-master/Mo/training/Elastic.json, 67 structures, weights=[10.  0.  1.]\n",
      "snap-master/Mo/training/Surface.json, 11 structures, weights=[1. 1. 0.]\n",
      "snap-master/Mo/training/Vacancy.json, 24 structures, weights=[1. 1. 0.]\n",
      "snap-master/Mo/training/GB.json, 13 structures, weights=[1. 1. 0.]\n",
      "snap-master/Mo/training/AIMD_NPT.json, 49 structures, weights=[1. 1. 0.]\n",
      "snap-master/Mo/training/AIMD_NVT.json, 120 structures, weights=[1. 1. 0.]\n",
      "snap-master/Ni/training/Elastic.json, 121 structures, weights=[10.  0.  1.]\n",
      "snap-master/Ni/training/Surface.json, 13 structures, weights=[1. 1. 0.]\n",
      "snap-master/Ni/training/Vacancy.json, 40 structures, weights=[1. 1. 0.]\n",
      "snap-master/Ni/training/Surface_test.json, 7 structures, weights=[1. 1. 0.]\n",
      "snap-master/Ni/training/AIMD.json, 280 structures, weights=[1. 1. 0.]\n",
      "snap-master/Ni-Mo/training/Mo_dopedwith_Ni.json, 918 structures, weights=[1. 1. 0.]\n",
      "snap-master/Ni-Mo/training/Ni3Mo_AIMD.json, 200 structures, weights=[1. 1. 0.]\n",
      "snap-master/Ni-Mo/training/Ni_dopedwith_Mo.json, 1668 structures, weights=[1. 1. 0.]\n",
      "snap-master/Ni-Mo/training/Ni3Mo_Elastic.json, 121 structures, weights=[10.  0.  1.]\n",
      "snap-master/Ni-Mo/training/Ni4Mo_Elastic.json, 121 structures, weights=[10.  0.  1.]\n",
      "snap-master/Ni-Mo/training/Ni4Mo_AIMD.json, 200 structures, weights=[1. 1. 0.]\n",
      "Total 3973 structures.\n"
     ]
    }
   ],
   "source": [
    "sources = ['Mo', 'Ni', 'Ni-Mo']\n",
    "total = 0\n",
    "counts = []\n",
    "all_weights = {\n",
    "    'aimd': np.array([1.0, 1.0, 0.0]),\n",
    "    'surface': np.array([1.0, 1.0, 0.0]),\n",
    "    'gb': np.array([1.0, 1.0, 0.0]),\n",
    "    'vacancy': np.array([1.0, 1.0, 0.0]),\n",
    "    'elastic': np.array([10.0, 0.0, 1.0])\n",
    "}\n",
    "\n",
    "for index, source in enumerate(sources):\n",
    "    training_dir = join(local_dir, source, 'training')\n",
    "    list_of_files = list(glob.glob(f\"{training_dir}/*.json\"))\n",
    "    for afile in list_of_files:\n",
    "        if index == 3:\n",
    "            output_file = f\"{splitext(basename(afile))[0]}.extxyz\"\n",
    "        else:\n",
    "            tag = splitext(basename(afile))[0]\n",
    "            output_file = f\"{source.replace('-', '')}.{tag}.extxyz\"\n",
    "        \n",
    "        for key, values in all_weights.items():\n",
    "            if key in tag.lower():\n",
    "                weights = values\n",
    "                break\n",
    "            elif 'dope' in tag:\n",
    "                weights = all_weights['aimd']\n",
    "                break\n",
    "        else:\n",
    "            raise KeyError(f\"The weights of {afile} cannot be set!\")\n",
    "        \n",
    "        with open(afile) as fp:\n",
    "            try:\n",
    "                n = json2extxyz(json.load(fp), \n",
    "                                output_file, \n",
    "                                weights=weights,\n",
    "                                source=source,\n",
    "                                tag=tag)\n",
    "                total += n\n",
    "            except Exception as excp:\n",
    "                print(f\"Failed to proceed {afile}: {str(excp)}\")\n",
    "            else:\n",
    "                print(f\"{afile}, {n} structures, weights={weights}\")\n",
    "print(f\"Total {total} structures.\")"
   ]
  },
  {
   "cell_type": "markdown",
   "metadata": {},
   "source": [
    "#### 1. SNAP\n",
    "\n",
    "Merge these extxyz files to a single `extxyz` file."
   ]
  },
  {
   "cell_type": "code",
   "execution_count": 6,
   "metadata": {},
   "outputs": [
    {
     "name": "stdout",
     "output_type": "stream",
     "text": [
      "NiMo.Ni3Mo_AIMD.extxyz\n",
      "NiMo.Ni4Mo_Elastic.extxyz\n",
      "Mo.AIMD_NVT.extxyz\n",
      "Mo.Elastic.extxyz\n",
      "NiMo.Ni4Mo_AIMD.extxyz\n",
      "Mo.GB.extxyz\n",
      "Ni.Surface_test.extxyz\n",
      "Mo.Vacancy.extxyz\n",
      "NiMo.Ni_dopedwith_Mo.extxyz\n",
      "Ni.Surface.extxyz\n",
      "NiMo.Mo_dopedwith_Ni.extxyz\n",
      "Ni.AIMD.extxyz\n",
      "Ni.Elastic.extxyz\n",
      "Mo.AIMD_NPT.extxyz\n",
      "Ni.Vacancy.extxyz\n",
      "NiMo.Ni3Mo_Elastic.extxyz\n",
      "Mo.Surface.extxyz\n",
      "Extract cartesian coordinates ...\n",
      "Progress:    3900 /      -1 | Speed = 310.6\n",
      "Total 3973 structures, time: 12.812 sec\n"
     ]
    },
    {
     "data": {
      "text/plain": [
       "<ase.db.sqlite.SQLite3Database at 0x1c35812400>"
      ]
     },
     "execution_count": 6,
     "metadata": {},
     "output_type": "execute_result"
    }
   ],
   "source": [
    "if exists('snap.extxyz'):\n",
    "    os.remove('snap.extxyz')\n",
    "all_files = glob.glob('*.*.extxyz')\n",
    "filename = 'snap.extxyz' \n",
    "with open(filename, 'w') as fp:    \n",
    "    for idx, afile in enumerate(all_files):\n",
    "        print(afile)\n",
    "        with open(afile, 'r') as obj:\n",
    "            fp.write(obj.read())\n",
    "all_files.append(filename)\n",
    "read_file(filename, units={'stress': 'kbar'}, verbose=True)"
   ]
  },
  {
   "cell_type": "markdown",
   "metadata": {},
   "source": [
    "#### 2. Ni\n",
    "\n",
    "Create a **Ni** `extxyz` file."
   ]
  },
  {
   "cell_type": "code",
   "execution_count": 7,
   "metadata": {},
   "outputs": [
    {
     "name": "stdout",
     "output_type": "stream",
     "text": [
      "Ni.Surface_test.extxyz\n",
      "Ni.Surface.extxyz\n",
      "Ni.AIMD.extxyz\n",
      "Ni.Elastic.extxyz\n",
      "Ni.Vacancy.extxyz\n",
      "Extract cartesian coordinates ...\n",
      "Progress:     400 /      -1 | Speed = 288.7\n",
      "Total 461 structures, time: 1.610 sec\n"
     ]
    },
    {
     "data": {
      "text/plain": [
       "<ase.db.sqlite.SQLite3Database at 0x1c3b08f2b0>"
      ]
     },
     "execution_count": 7,
     "metadata": {},
     "output_type": "execute_result"
    }
   ],
   "source": [
    "all_Ni_files = glob.glob('Ni.*.extxyz')\n",
    "filename = 'snap-Ni.extxyz' \n",
    "with open(filename, 'w') as fp:    \n",
    "    for afile in all_Ni_files:\n",
    "        print(afile)\n",
    "        with open(afile, 'r') as obj:\n",
    "            fp.write(obj.read())\n",
    "all_files.append(filename)\n",
    "read_file(filename, units={'stress': 'kbar'}, verbose=True)"
   ]
  },
  {
   "cell_type": "markdown",
   "metadata": {},
   "source": [
    "#### 3. Mo\n",
    "\n",
    "Create a **Mo** `extxyz` file."
   ]
  },
  {
   "cell_type": "code",
   "execution_count": 8,
   "metadata": {},
   "outputs": [
    {
     "name": "stdout",
     "output_type": "stream",
     "text": [
      "Mo.AIMD_NVT.extxyz\n",
      "Mo.Elastic.extxyz\n",
      "Mo.GB.extxyz\n",
      "Mo.Vacancy.extxyz\n",
      "Mo.AIMD_NPT.extxyz\n",
      "Mo.Surface.extxyz\n",
      "Extract cartesian coordinates ...\n",
      "Progress:     200 /      -1 | Speed = 317.8\n",
      "Total 284 structures, time: 0.878 sec\n"
     ]
    },
    {
     "data": {
      "text/plain": [
       "<ase.db.sqlite.SQLite3Database at 0x1c3b08f400>"
      ]
     },
     "execution_count": 8,
     "metadata": {},
     "output_type": "execute_result"
    }
   ],
   "source": [
    "all_Mo_files = glob.glob('Mo.*.extxyz')\n",
    "filename = 'snap-Mo.extxyz'\n",
    "with open(filename, 'w') as fp:    \n",
    "    for afile in all_Mo_files:\n",
    "        print(afile)\n",
    "        with open(afile, 'r') as obj:\n",
    "            fp.write(obj.read())\n",
    "all_files.append(filename)\n",
    "read_file(filename, units={'stress': 'kbar'}, verbose=True)"
   ]
  },
  {
   "cell_type": "markdown",
   "metadata": {},
   "source": [
    "#### 4. Ni$_3$Mo"
   ]
  },
  {
   "cell_type": "code",
   "execution_count": 9,
   "metadata": {},
   "outputs": [
    {
     "name": "stdout",
     "output_type": "stream",
     "text": [
      "NiMo.Ni3Mo_AIMD.extxyz\n",
      "NiMo.Ni3Mo_Elastic.extxyz\n",
      "Extract cartesian coordinates ...\n",
      "Progress:     300 /      -1 | Speed = 278.3\n",
      "Total 321 structures, time: 1.156 sec\n"
     ]
    },
    {
     "data": {
      "text/plain": [
       "<ase.db.sqlite.SQLite3Database at 0x1c34fbcb38>"
      ]
     },
     "execution_count": 9,
     "metadata": {},
     "output_type": "execute_result"
    }
   ],
   "source": [
    "all_Ni3Mo_files = glob.glob(\"NiMo.Ni3Mo*.extxyz\")\n",
    "filename = 'snap-Ni3Mo.extxyz'\n",
    "with open(filename, 'w') as fp:    \n",
    "    for afile in all_Ni3Mo_files:\n",
    "        print(afile)\n",
    "        with open(afile, 'r') as obj:\n",
    "            fp.write(obj.read())\n",
    "all_files.append(filename)\n",
    "read_file(filename, units={'stress': 'kbar'}, verbose=True)"
   ]
  },
  {
   "cell_type": "markdown",
   "metadata": {},
   "source": [
    "#### 5. Ni$_4$Mo"
   ]
  },
  {
   "cell_type": "code",
   "execution_count": 10,
   "metadata": {},
   "outputs": [
    {
     "name": "stdout",
     "output_type": "stream",
     "text": [
      "NiMo.Ni4Mo_Elastic.extxyz\n",
      "NiMo.Ni4Mo_AIMD.extxyz\n",
      "Extract cartesian coordinates ...\n",
      "Progress:     300 /      -1 | Speed = 281.0\n",
      "Total 321 structures, time: 1.145 sec\n"
     ]
    },
    {
     "data": {
      "text/plain": [
       "<ase.db.sqlite.SQLite3Database at 0x1c3b08f4a8>"
      ]
     },
     "execution_count": 10,
     "metadata": {},
     "output_type": "execute_result"
    }
   ],
   "source": [
    "all_Ni4Mo_files = glob.glob(\"NiMo.Ni4Mo*.extxyz\")\n",
    "filename = 'snap-Ni4Mo.extxyz'\n",
    "with open(filename, 'w') as fp:    \n",
    "    for afile in all_Ni4Mo_files:\n",
    "        print(afile)\n",
    "        with open(afile, 'r') as obj:\n",
    "            fp.write(obj.read())\n",
    "all_files.append(filename)\n",
    "read_file(filename, units={'stress': 'kbar'}, verbose=True)"
   ]
  },
  {
   "cell_type": "markdown",
   "metadata": {},
   "source": [
    "#### 6. Ni$_\\mathrm{Mo}$"
   ]
  },
  {
   "cell_type": "code",
   "execution_count": 11,
   "metadata": {},
   "outputs": [
    {
     "name": "stdout",
     "output_type": "stream",
     "text": [
      "NiMo.Ni_dopedwith_Mo.extxyz\n",
      "Extract cartesian coordinates ...\n",
      "Progress:    1600 /      -1 | Speed = 318.8\n",
      "Total 1668 structures, time: 5.233 sec\n"
     ]
    },
    {
     "data": {
      "text/plain": [
       "<ase.db.sqlite.SQLite3Database at 0x1c358b40b8>"
      ]
     },
     "execution_count": 11,
     "metadata": {},
     "output_type": "execute_result"
    }
   ],
   "source": [
    "all_NidMo_files = glob.glob(\"NiMo.Ni_dopedwith_Mo.extxyz\")\n",
    "filename = 'snap-NidMo.extxyz'\n",
    "with open(filename, 'w') as fp:    \n",
    "    for afile in all_NidMo_files:\n",
    "        print(afile)\n",
    "        with open(afile, 'r') as obj:\n",
    "            fp.write(obj.read())\n",
    "all_files.append(filename)\n",
    "read_file(filename, units={'stress': 'kbar'}, verbose=True)"
   ]
  },
  {
   "cell_type": "markdown",
   "metadata": {},
   "source": [
    "#### 7. Mo$_\\mathrm{Ni}$"
   ]
  },
  {
   "cell_type": "code",
   "execution_count": 12,
   "metadata": {},
   "outputs": [
    {
     "name": "stdout",
     "output_type": "stream",
     "text": [
      "NiMo.Mo_dopedwith_Ni.extxyz\n",
      "Extract cartesian coordinates ...\n",
      "Progress:     900 /      -1 | Speed = 319.5\n",
      "Total 918 structures, time: 2.874 sec\n"
     ]
    },
    {
     "data": {
      "text/plain": [
       "<ase.db.sqlite.SQLite3Database at 0x1c358b4ac8>"
      ]
     },
     "execution_count": 12,
     "metadata": {},
     "output_type": "execute_result"
    }
   ],
   "source": [
    "all_ModNi_files = glob.glob(\"NiMo.Mo_dopedwith_Ni.extxyz\")\n",
    "filename = 'snap-ModNi.extxyz' \n",
    "with open(filename, 'w') as fp:    \n",
    "    for afile in all_ModNi_files:\n",
    "        print(afile)\n",
    "        with open(afile, 'r') as obj:\n",
    "            fp.write(obj.read())\n",
    "all_files.append(filename)\n",
    "read_file(filename, units={'stress': 'kbar'}, verbose=True)"
   ]
  },
  {
   "cell_type": "markdown",
   "metadata": {},
   "source": [
    "#### Clean up\n",
    "\n",
    "Delete unnecessary files."
   ]
  },
  {
   "cell_type": "code",
   "execution_count": 13,
   "metadata": {},
   "outputs": [],
   "source": [
    "for afile in all_files:\n",
    "    if exists(afile):\n",
    "        os.remove(afile)\n",
    "if exists(local_dir):\n",
    "    shutil.rmtree(local_dir, ignore_errors=True)"
   ]
  }
 ],
 "metadata": {
  "kernelspec": {
   "display_name": "Python 3",
   "language": "python",
   "name": "python3"
  },
  "language_info": {
   "codemirror_mode": {
    "name": "ipython",
    "version": 3
   },
   "file_extension": ".py",
   "mimetype": "text/x-python",
   "name": "python",
   "nbconvert_exporter": "python",
   "pygments_lexer": "ipython3",
   "version": "3.7.2"
  }
 },
 "nbformat": 4,
 "nbformat_minor": 2
}
