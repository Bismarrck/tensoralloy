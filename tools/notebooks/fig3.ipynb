{
 "cells": [
  {
   "cell_type": "markdown",
   "metadata": {},
   "source": [
    "# Figure 3\n",
    "\n",
    "This notebook is used to reproduce Figure 3 of [PHYSICAL REVIEW B 98, 094104 (2018)](https://doi.org/10.1103/PhysRevB.98.094104)\n",
    "\n",
    "* Author: Xin Chen\n",
    "* Date: Jan 22, 2019"
   ]
  },
  {
   "cell_type": "code",
   "execution_count": 2,
   "metadata": {},
   "outputs": [],
   "source": [
    "import numpy as np\n",
    "import ase\n",
    "import os\n",
    "import shutil\n",
    "\n",
    "from os.path import exists, join\n",
    "from ase.build import bulk\n",
    "from ase import Atoms\n",
    "from ase.calculators.vasp import Vasp2\n",
    "from ase.calculators.calculator import all_changes\n",
    "from ase.io import read\n",
    "from tensoralloy.calculator import TensorAlloyCalculator\n",
    "\n",
    "from matplotlib import pyplot as plt\n",
    "from matplotlib.ticker import MultipleLocator"
   ]
  },
  {
   "cell_type": "markdown",
   "metadata": {},
   "source": [
    "## 1. Bulk Nickel"
   ]
  },
  {
   "cell_type": "markdown",
   "metadata": {},
   "source": [
    "Create the conventional **fcc** cubic bulk of **Ni**."
   ]
  },
  {
   "cell_type": "code",
   "execution_count": 24,
   "metadata": {},
   "outputs": [],
   "source": [
    "base_atoms = bulk('Ni', crystalstructure='fcc', cubic=True)\n",
    "scaled_positions = base_atoms.get_scaled_positions()\n",
    "symbols = base_atoms.get_chemical_symbols()"
   ]
  },
  {
   "cell_type": "markdown",
   "metadata": {},
   "source": [
    "## 2. Relaxation of the fcc Ni"
   ]
  },
  {
   "cell_type": "markdown",
   "metadata": {},
   "source": [
    "This is a helper function returning the command to run VASP."
   ]
  },
  {
   "cell_type": "code",
   "execution_count": 25,
   "metadata": {},
   "outputs": [],
   "source": [
    "def get_vasp_command():\n",
    "    with open(\"run_vasp.sh\") as fp:\n",
    "        content = fp.read()\n",
    "    return \" && \".join([x for x in content.split('\\n') if not x.strip().startswith('#')])"
   ]
  },
  {
   "cell_type": "markdown",
   "metadata": {},
   "source": [
    "Define the top directory for all VASP calculations related to Fig 3."
   ]
  },
  {
   "cell_type": "code",
   "execution_count": 26,
   "metadata": {},
   "outputs": [],
   "source": [
    "vasp_dir = 'vasp_fig3'\n",
    "if not exists(vasp_dir):\n",
    "    os.makedirs(vasp_dir)"
   ]
  },
  {
   "cell_type": "markdown",
   "metadata": {},
   "source": [
    "**Relax** the cell shape and volume of **base_atoms** using VASP."
   ]
  },
  {
   "cell_type": "code",
   "execution_count": 27,
   "metadata": {},
   "outputs": [
    {
     "name": "stdout",
     "output_type": "stream",
     "text": [
      "The optimized cell is: \n",
      "[[3.52 0.   0.  ]\n",
      " [0.   3.52 0.  ]\n",
      " [0.   0.   3.52]]\n",
      "The optimized volume is: 43.61420799999998\n",
      "The total energy is: -23.11428258\n"
     ]
    }
   ],
   "source": [
    "base_dir = join(vasp_dir, 'base')\n",
    "\n",
    "if not exists(base_dir):\n",
    "    calc = Vasp2(\n",
    "        directory=base_dir, \n",
    "        xc='pbe', \n",
    "        command=get_vasp_command())\n",
    "\n",
    "    calc.set(istart=0, icharg=1, ismear=0, sigma=0.05, isif=2, prec='high', \n",
    "             encut=520, nsw=0, nelm=99, ediff=1E-7, ediffg=-0.002, ibrion=-1, \n",
    "             ispin=2, lreal=False, kspacing=0.1, magmom=(5.0, 5.0, 5.0, 5.0),\n",
    "             setups={'Ni': '_pv'})\n",
    "\n",
    "    base_atoms.calc = calc\n",
    "    calc.calculate(base_atoms)\n",
    "\n",
    "else:\n",
    "    base_atoms = read(join(base_dir, 'OUTCAR'), format='vasp-out')\n",
    "\n",
    "print(\"The optimized cell is: \")\n",
    "print(base_atoms.cell)\n",
    "print(f\"The optimized volume is: {base_atoms.get_volume()}\")\n",
    "print(f\"The total energy is: {base_atoms.get_potential_energy()}\")"
   ]
  },
  {
   "cell_type": "markdown",
   "metadata": {},
   "source": [
    "## 3. NN/EAM Results"
   ]
  },
  {
   "cell_type": "markdown",
   "metadata": {},
   "source": [
    "### 3.1 Load NN and EAM calculators\n",
    "\n",
    "* `zjw04`: The original Zjw04 EAM calculator\n",
    "* `zjw04xc`: The machine-learning optimized continous Zjw04 EAM calcualtor\n",
    "* `behler`: The Behler's symmetry function based atomistic neural network calculator"
   ]
  },
  {
   "cell_type": "code",
   "execution_count": 28,
   "metadata": {},
   "outputs": [],
   "source": [
    "zjw04 = TensorAlloyCalculator('Ni.zjw04.pb')\n",
    "zjw04xc = TensorAlloyCalculator('Ni.zjw04xc.pb')\n",
    "behler = TensorAlloyCalculator('Ni.behler.k2.pb')"
   ]
  },
  {
   "cell_type": "markdown",
   "metadata": {},
   "source": [
    "### 3.2 Calculate\n",
    "\n",
    "The volume ranges from 83% to 121%."
   ]
  },
  {
   "cell_type": "code",
   "execution_count": 29,
   "metadata": {},
   "outputs": [],
   "source": [
    "delta = {\n",
    "    'zjw04': [], \n",
    "    'zjw04xc': [],\n",
    "    'behler': [],\n",
    "    'dft': [],\n",
    "}\n",
    "ref = {\n",
    "    'zjw04': zjw04.get_potential_energy(base_atoms),\n",
    "    'zjw04xc': zjw04xc.get_potential_energy(base_atoms),\n",
    "    'behler': behler.get_potential_energy(base_atoms),\n",
    "    'dft': calc.results['energy'],\n",
    "}\n",
    "volume = []\n",
    "list_of_atoms = []\n",
    "list_of_atoms_id = []\n",
    "\n",
    "for atoms_id in range(-17, 22, 1):\n",
    "    percent = float(atoms_id)\n",
    "    cell = base_atoms.cell * (1.0 + percent * 0.01)**(1.0/3.0)\n",
    "    atoms = Atoms(symbols, pbc=True, cell=cell, scaled_positions=scaled_positions)\n",
    "    volume.append(atoms.get_volume())\n",
    "    list_of_atoms.append(atoms)\n",
    "    list_of_atoms_id.append(atoms_id)\n",
    "    delta['zjw04'].append(zjw04.get_potential_energy(atoms) - ref['zjw04'])\n",
    "    delta['zjw04xc'].append(zjw04xc.get_potential_energy(atoms) - ref['zjw04xc'])\n",
    "    delta['behler'].append(behler.get_potential_energy(atoms) - ref['behler'])"
   ]
  },
  {
   "cell_type": "markdown",
   "metadata": {},
   "source": [
    "## 4. DFT Results"
   ]
  },
  {
   "cell_type": "markdown",
   "metadata": {},
   "source": [
    "### 4.1 Create Input Files\n",
    "\n",
    "The DFT calculations should be done on computational nodes as they requires a lot of time to finish."
   ]
  },
  {
   "cell_type": "code",
   "execution_count": 31,
   "metadata": {},
   "outputs": [],
   "source": [
    "for atoms_id, atoms in zip(list_of_atoms_id, list_of_atoms):\n",
    "    dft = Vasp2(\n",
    "        directory=join(vasp_dir, str(atoms_id)), \n",
    "        xc='pbe', \n",
    "        command=get_vasp_command())\n",
    "    dft.set(istart=0, icharg=1, ismear=0, sigma=0.05, isif=2, prec='high',\n",
    "            encut=520, ediff=1E-8, ispin=2, lreal=False, kspacing=0.1,\n",
    "            magmom=(5.0, 5.0, 5.0, 5.0), ibrion=-1, nelm=99, nsw=0, setups={'Ni': '_pv'})\n",
    "    dft.write_input(atoms, ['energy'], all_changes)"
   ]
  },
  {
   "cell_type": "markdown",
   "metadata": {},
   "source": [
    "### 4.2 Read Outputs"
   ]
  },
  {
   "cell_type": "code",
   "execution_count": 32,
   "metadata": {},
   "outputs": [],
   "source": [
    "for atoms_id in list_of_atoms_id:\n",
    "    if atoms_id == 0:\n",
    "        delta['dft'].append(0)\n",
    "    else:\n",
    "        atoms = read(join(vasp_dir, str(atoms_id), 'OUTCAR'), format='vasp-out')\n",
    "        delta['dft'].append(atoms.get_potential_energy() - ref['dft'])"
   ]
  },
  {
   "cell_type": "markdown",
   "metadata": {},
   "source": [
    "## 5. Plot"
   ]
  },
  {
   "cell_type": "code",
   "execution_count": 43,
   "metadata": {},
   "outputs": [
    {
     "data": {
      "image/png": "[encoded data removed]",
      "text/plain": [
       "<Figure size 576x432 with 1 Axes>"
      ]
     },
     "metadata": {
      "needs_background": "light"
     },
     "output_type": "display_data"
    }
   ],
   "source": [
    "fig, ax = plt.subplots(1, 1, figsize=[8, 6])\n",
    "\n",
    "h1, = ax.plot(volume, delta['zjw04'], '.', markersize=10, color='red')\n",
    "h2, = ax.plot(volume, delta['zjw04xc'], 'o', markersize=5, color='green')\n",
    "h3, = ax.plot(volume, delta['behler'], 'x', markersize=5, color='blue')\n",
    "h4, = ax.plot(volume, delta['dft'], 's', markersize=5, color='black')\n",
    "\n",
    "ax.set_xlabel(r\"Volume ($\\AA^3$)\", fontsize=16, fontname='arial')\n",
    "ax.set_ylabel(r\"$E - E_{min}$ (eV)\", fontsize=16, fontname='arial')\n",
    "ax.xaxis.set_major_locator(MultipleLocator(2))\n",
    "ax.yaxis.set_major_locator(MultipleLocator(0.5))\n",
    "\n",
    "ax.set_ylim([-0.05, 1.5])\n",
    "\n",
    "plt.legend(\n",
    "    [h1, h2, h3, h4], \n",
    "    ['Zjw04', 'Zjw04xc', 'Behler', 'DFT'], \n",
    "    frameon=False, fontsize=13)\n",
    "plt.tight_layout()\n",
    "plt.savefig('fig3.png', dpi=300)\n",
    "plt.show()"
   ]
  }
 ],
 "metadata": {
  "kernelspec": {
   "display_name": "Python 3",
   "language": "python",
   "name": "python3"
  },
  "language_info": {
   "codemirror_mode": {
    "name": "ipython",
    "version": 3
   },
   "file_extension": ".py",
   "mimetype": "text/x-python",
   "name": "python",
   "nbconvert_exporter": "python",
   "pygments_lexer": "ipython3",
   "version": "3.7.2"
  }
 },
 "nbformat": 4,
 "nbformat_minor": 2
}
