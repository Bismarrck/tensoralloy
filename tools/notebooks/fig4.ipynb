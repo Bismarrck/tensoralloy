{
 "cells": [
  {
   "cell_type": "markdown",
   "metadata": {},
   "source": [
    "# Figure 4\n",
    "\n",
    "This notebook is used to reproduce Figure 4 of [PHYSICAL REVIEW B 98, 094104 (2018)](https://doi.org/10.1103/PhysRevB.98.094104).\n",
    "\n",
    "* Author: Xin Chen\n",
    "* Email: Bismarrck@me.com"
   ]
  },
  {
   "cell_type": "code",
   "execution_count": 1,
   "metadata": {},
   "outputs": [],
   "source": [
    "import numpy as np\n",
    "import ase\n",
    "\n",
    "from ase.build import bulk\n",
    "from ase import Atoms\n",
    "from ase import units\n",
    "from tensoralloy.calculator import TensorAlloyCalculator\n",
    "from pymatgen import Lattice, Structure\n",
    "from pymatgen.core.surface import SlabGenerator\n",
    "from pymatgen.io.ase import AseAtomsAdaptor\n",
    "\n",
    "from matplotlib import pyplot as plt\n",
    "from matplotlib.ticker import MultipleLocator"
   ]
  },
  {
   "cell_type": "markdown",
   "metadata": {},
   "source": [
    "## 1. Conventional fcc Ni\n",
    "\n",
    "First, we should create a base fcc/cubic Ni structure.\n",
    "\n",
    "**Note**: the conventional structure defined in this [tutorial](https://matgenb.materialsvirtuallab.org/2017/04/03/Slab-generation-and-Wulff-shape.html) is wrong!"
   ]
  },
  {
   "cell_type": "code",
   "execution_count": 2,
   "metadata": {},
   "outputs": [],
   "source": [
    "lattice = Lattice.cubic(3.52)\n",
    "base_structure = Structure(\n",
    "    lattice, \n",
    "    [\"Ni\", \"Ni\", \"Ni\", \"Ni\"],\n",
    "    [[0.0, 0.0, 0.0], [0.0, 0.5, 0.5], \n",
    "     [0.5, 0.0, 0.5], [0.5, 0.5, 0.0]])"
   ]
  },
  {
   "cell_type": "markdown",
   "metadata": {},
   "source": [
    "## 2. Slabs"
   ]
  },
  {
   "cell_type": "markdown",
   "metadata": {},
   "source": [
    "Create different Ni surface structures from `base_structure`."
   ]
  },
  {
   "cell_type": "code",
   "execution_count": 3,
   "metadata": {},
   "outputs": [],
   "source": [
    "miller_indices = [\n",
    "    [1, 0, 0], [1, 1, 0], [1, 1, 1], [2, 1, 0],\n",
    "    [2, 1, 1], [2, 2, 1], [3, 1, 0], [3, 1, 1], \n",
    "    [3, 2, 0], [3, 2, 1], [3, 2, 2], [3, 3, 1],\n",
    "    [3, 3, 2], [4, 1, 1], [4, 2, 1], [4, 3, 1], \n",
    "    [4, 3, 2], [4, 3, 3], [4, 4, 1], [4, 4, 3],\n",
    "]\n",
    "structures = {}\n",
    "\n",
    "for miller_index in miller_indices:\n",
    "    key = \"\".join(map(str, miller_index))\n",
    "    slabgen = SlabGenerator(base_structure, miller_index, min_slab_size=10, min_vacuum_size=10)\n",
    "    all_slabs = slabgen.get_slabs()\n",
    "    if len(all_slabs) > 1:\n",
    "        print(f\"Warning: more than one slabs generated for {key}\")\n",
    "    slab = all_slabs[0]\n",
    "    assert slab.miller_index == tuple(miller_index)\n",
    "    slab.make_supercell([4, 4, 1])\n",
    "    structures[key] = slab"
   ]
  },
  {
   "cell_type": "markdown",
   "metadata": {},
   "source": [
    "## 3. Results"
   ]
  },
  {
   "cell_type": "markdown",
   "metadata": {},
   "source": [
    "### 3.1 Calculators\n",
    "\n",
    "Load calculators:\n",
    "\n",
    "* `zjw04`: The original Zjw04 EAM calculator\n",
    "* `zjw04xc`: The machine-learning optimized continous Zjw04 EAM calcualtor\n",
    "* `behler`: The Behler's symmetry function based atomistic neural network calculator"
   ]
  },
  {
   "cell_type": "code",
   "execution_count": 4,
   "metadata": {},
   "outputs": [],
   "source": [
    "zjw04 = TensorAlloyCalculator('Ni.zjw04.pb')\n",
    "zjw04xc = TensorAlloyCalculator('Ni.zjw04xc.pb')\n",
    "behler = TensorAlloyCalculator('Ni.behler.k2.pb')"
   ]
  },
  {
   "cell_type": "markdown",
   "metadata": {},
   "source": [
    "Compute the potential energy of the bulk Ni."
   ]
  },
  {
   "cell_type": "code",
   "execution_count": 5,
   "metadata": {},
   "outputs": [],
   "source": [
    "bulk_atoms = bulk('Ni')\n",
    "ref = {\n",
    "    'zjw04': zjw04.get_potential_energy(bulk_atoms),\n",
    "    'zjw04xc': zjw04xc.get_potential_energy(bulk_atoms),\n",
    "    'behler': behler.get_potential_energy(bulk_atoms)\n",
    "}"
   ]
  },
  {
   "cell_type": "markdown",
   "metadata": {},
   "source": [
    "### 3.2 Unit Convention Factor\n",
    "\n",
    "The desired unit is $J/m^2$."
   ]
  },
  {
   "cell_type": "code",
   "execution_count": 6,
   "metadata": {},
   "outputs": [],
   "source": [
    "factor = units.eV / units.Angstrom**2 / (units.J / units.m**2)"
   ]
  },
  {
   "cell_type": "markdown",
   "metadata": {},
   "source": [
    "### 3.3 Surface Energy"
   ]
  },
  {
   "cell_type": "markdown",
   "metadata": {},
   "source": [
    "Define a helper function:"
   ]
  },
  {
   "cell_type": "code",
   "execution_count": 7,
   "metadata": {},
   "outputs": [],
   "source": [
    "def calculate(calc: TensorAlloyCalculator, atoms: Atoms, bulk_energy: float, area: float):\n",
    "    \"\"\"\n",
    "    Return the surface energy (J/m**2).\n",
    "    \"\"\"\n",
    "    n = len(atoms)\n",
    "    surface_energy = calc.get_potential_energy(atoms)\n",
    "    return (surface_energy - bulk_energy * n) / area / 2.0 * factor"
   ]
  },
  {
   "cell_type": "markdown",
   "metadata": {},
   "source": [
    "Compute the surface energies using calcualtors above."
   ]
  },
  {
   "cell_type": "code",
   "execution_count": 8,
   "metadata": {},
   "outputs": [],
   "source": [
    "surface_energies = {\n",
    "    'zjw04': [], \n",
    "    'zjw04xc': [],\n",
    "    'behler': [],\n",
    "}\n",
    "\n",
    "for miller_index in miller_indices:\n",
    "    key = \"\".join(map(str, miller_index))\n",
    "    slab = structures[key]\n",
    "    area = slab.surface_area\n",
    "    atoms = AseAtomsAdaptor.get_atoms(slab)\n",
    "    surface_energies['zjw04'].append(calculate(zjw04, atoms, ref['zjw04'], area))\n",
    "    surface_energies['zjw04xc'].append(calculate(zjw04xc, atoms, ref['zjw04xc'], area))\n",
    "    surface_energies['behler'].append(calculate(behler, atoms, ref['behler'], area))"
   ]
  },
  {
   "cell_type": "markdown",
   "metadata": {},
   "source": [
    "### 3.4 DFT\n",
    "\n",
    "DFT results are picked from the original figure."
   ]
  },
  {
   "cell_type": "code",
   "execution_count": 9,
   "metadata": {},
   "outputs": [],
   "source": [
    "dft = [\n",
    "    # These values are picked from the tutorial mentioned above.\n",
    "    2.2084, # (1, 0, 0)\n",
    "    2.2862, # (1, 1, 0)\n",
    "    1.9235, # (1, 1, 1)\n",
    "    2.3969, # (2, 1, 0)\n",
    "    2.2353, # (2, 1, 1)\n",
    "    2.1732, # (2, 2, 1)\n",
    "    2.3964, # (3, 1, 0)\n",
    "    2.3039, # (3, 1, 1)\n",
    "    2.3869, # (3, 2, 0)\n",
    "    2.3183, # (3, 2, 1)\n",
    "    2.1242, # (3, 2, 2)\n",
    "    2.2288, # (3, 3, 1)\n",
    "    2.0944, # (3, 3, 2)\n",
    "    # These are approximated values\n",
    "    (964 - 569) / (964 - 669) * 0.9 + 1.1, # (4, 1, 1)\n",
    "    (964 - 553) / (964 - 669) * 0.9 + 1.1, # (4, 2, 1)\n",
    "    (964 - 561) / (964 - 669) * 0.9 + 1.1, # (4, 3, 1)\n",
    "    (964 - 596) / (964 - 669) * 0.9 + 1.1, # (4, 3, 2)\n",
    "    (964 - 644) / (964 - 669) * 0.9 + 1.1, # (4, 3, 3)\n",
    "    (964 - 588) / (964 - 669) * 0.9 + 1.1, # (4, 4, 1)\n",
    "    (964 - 653) / (964 - 669) * 0.9 + 1.1, # (4, 4, 3)\n",
    "]\n",
    "surface_energies['dft'] = dft"
   ]
  },
  {
   "cell_type": "markdown",
   "metadata": {},
   "source": [
    "## 4. Plot"
   ]
  },
  {
   "cell_type": "code",
   "execution_count": 13,
   "metadata": {},
   "outputs": [
    {
     "data": {
      "image/png": "[encoded data removed]",
      "text/plain": [
       "<Figure size 576x288 with 1 Axes>"
      ]
     },
     "metadata": {
      "needs_background": "light"
     },
     "output_type": "display_data"
    }
   ],
   "source": [
    "fig, ax = plt.subplots(1, 1, figsize=[8, 4])\n",
    "\n",
    "h1, = ax.plot(surface_energies['zjw04'], 'r.-', markersize=16)\n",
    "h2, = ax.plot(surface_energies['zjw04xc'], 'gx-', markersize=8)\n",
    "h3, = ax.plot(surface_energies['behler'], 'bv-', markersize=8)\n",
    "h4, = ax.plot(surface_energies['dft'], 's-', markersize=8, color='black')\n",
    "\n",
    "ax.xaxis.set_major_locator(MultipleLocator(1))\n",
    "ax.set_xticklabels([\"\"] + [\"\".join(map(str, miller_index)) for miller_index in miller_indices])\n",
    "\n",
    "ax.yaxis.set_minor_locator(MultipleLocator(0.1))\n",
    "ax.set_ylabel(r\"Surface Energy ($J/m^2$)\", fontsize=16, fontname='arial')\n",
    "\n",
    "ax.set_ylim([1.4, 2.6])\n",
    "\n",
    "plt.legend([h1, h2, h3, h4], ['Zjw04', 'Zjw04xc', 'Behler', 'DFT'], fontsize=14, loc='lower center')\n",
    "\n",
    "plt.tight_layout()\n",
    "plt.savefig('fig4.png', dpi=300)\n",
    "plt.show()"
   ]
  },
  {
   "cell_type": "code",
   "execution_count": null,
   "metadata": {},
   "outputs": [],
   "source": []
  }
 ],
 "metadata": {
  "kernelspec": {
   "display_name": "Python 3",
   "language": "python",
   "name": "python3"
  },
  "language_info": {
   "codemirror_mode": {
    "name": "ipython",
    "version": 3
   },
   "file_extension": ".py",
   "mimetype": "text/x-python",
   "name": "python",
   "nbconvert_exporter": "python",
   "pygments_lexer": "ipython3",
   "version": "3.7.2"
  }
 },
 "nbformat": 4,
 "nbformat_minor": 2
}
